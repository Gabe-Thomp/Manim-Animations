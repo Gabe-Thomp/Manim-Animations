{
 "cells": [
  {
   "cell_type": "code",
   "execution_count": 4,
   "id": "283f5a98",
   "metadata": {
    "scrolled": true
   },
   "outputs": [],
   "source": [
    "from manim import *"
   ]
  },
  {
   "cell_type": "markdown",
   "id": "850b3393-c9c3-45a5-ad99-fcba6aa38c2d",
   "metadata": {},
   "source": [
    "## Animate Class"
   ]
  },
  {
   "cell_type": "code",
   "execution_count": 125,
   "id": "c4994a42-ea48-456f-a539-64d5e1a9db7b",
   "metadata": {
    "scrolled": true
   },
   "outputs": [
    {
     "name": "stderr",
     "output_type": "stream",
     "text": [
      "                                                                                \r"
     ]
    },
    {
     "data": {
      "text/html": [
       "<video src=\"media/jupyter/Animate@2023-09-08@10-01-13.mp4\" controls autoplay loop style=\"max-width: 60%;\"  >\n",
       "      Your browser does not support the <code>video</code> element.\n",
       "    </video>"
      ],
      "text/plain": [
       "<IPython.core.display.Video object>"
      ]
     },
     "metadata": {},
     "output_type": "display_data"
    }
   ],
   "source": [
    "%%manim -ql -v WARNING Animate\n",
    "\n",
    "class Animate(Scene):\n",
    "    def construct(self):\n",
    "        square = Square(color=RED).shift(LEFT * 2)\n",
    "        circle = Circle(color=BLUE).shift(RIGHT * 2)\n",
    "\n",
    "        self.play(Write(square), Write(circle))\n",
    "\n",
    "        # moving objects\n",
    "        self.play(\n",
    "            square.animate.shift(UP * 0.5),\n",
    "            circle.animate.shift(DOWN * 0.5)\n",
    "        )\n",
    "\n",
    "        # rotating and filling the square (opacity 80%)\n",
    "        # scaling and filling the circle (opacity 80%)\n",
    "        self.play(\n",
    "            square.animate.rotate(PI / 2).set_fill(RED, 0.8),\n",
    "            circle.animate.scale(2).set_fill(BLUE, 0.8),\n",
    "        )\n",
    "\n",
    "        # change color\n",
    "        self.play(\n",
    "            square.animate.set_color(GREEN),\n",
    "            circle.animate.set_color(ORANGE),\n",
    "        )\n",
    "\n",
    "        self.play(FadeOut(square), FadeOut(circle))\n"
   ]
  },
  {
   "cell_type": "markdown",
   "id": "976d14e4-ad65-4e0b-a74c-ec22d1ad5b8e",
   "metadata": {},
   "source": [
    "# Random Walk"
   ]
  },
  {
   "cell_type": "code",
   "execution_count": 87,
   "id": "4fcfe3bb-3156-40c9-bfdc-dffdb3e566c8",
   "metadata": {
    "scrolled": true
   },
   "outputs": [
    {
     "name": "stderr",
     "output_type": "stream",
     "text": [
      "                                                                                \r"
     ]
    },
    {
     "data": {
      "text/html": [
       "<video src=\"media/jupyter/RandomWalk@2023-09-20@21-14-52.mp4\" controls autoplay loop style=\"max-width: 60%;\"  >\n",
       "      Your browser does not support the <code>video</code> element.\n",
       "    </video>"
      ],
      "text/plain": [
       "<IPython.core.display.Video object>"
      ]
     },
     "metadata": {},
     "output_type": "display_data"
    }
   ],
   "source": [
    "%%manim -qm -v WARNING RandomWalk\n",
    "import random\n",
    "\n",
    "class RandomWalk(Scene):\n",
    "    def construct(self):\n",
    "        so_question = ImageMobject(\"./so_question.png\")\n",
    "        so_question.scale(1)\n",
    "        \n",
    "        self.play(FadeIn(so_question))\n",
    "        self.wait(5)\n",
    "        self.play(FadeOut(so_question))\n",
    "\n",
    "        \n",
    "        num_line = NumberLine([0,10,1], include_numbers=True, length=10)\n",
    "        butterfly = ImageMobject(\"./butterfly.png\")\n",
    "        butterfly.scale(.1)\n",
    "        \n",
    "        num_line_obj = lambda x, num_line: num_line.get_number_mobject(x)\n",
    "        def next_to_num(x, butterfly=butterfly, num_line=num_line): \n",
    "            return butterfly.animate.next_to(num_line.get_number_mobject(x), UP)         \n",
    "\n",
    "        def set_scene(num_line, butterfly, shift=[0,0], run_time=2, run_time_2=1):\n",
    "            num_line.shift(shift[0]*RIGHT+shift[1]*UP)\n",
    "            self.play(Write(num_line), run_time=run_time)\n",
    "            self.play(FadeIn(butterfly.next_to( num_line_obj(1, num_line), UP )), run_time=run_time_2)\n",
    "        set_scene(num_line, butterfly)\n",
    "        # Demo for movement\n",
    "        self.wait(4)\n",
    "        # If at 0, move right\n",
    "        self.play(next_to_num(0, butterfly, num_line))\n",
    "        self.wait(.5)\n",
    "        self.play(next_to_num(1, butterfly, num_line))\n",
    "        self.wait(1.5)\n",
    "\n",
    "        # If above zero, move left or right\n",
    "        self.play(next_to_num(0, butterfly, num_line))\n",
    "        self.play(next_to_num(1, butterfly, num_line))\n",
    "        self.play(next_to_num(2, butterfly, num_line))\n",
    "        self.play(next_to_num(1, butterfly, num_line))\n",
    "        self.wait(2)\n",
    "\n",
    "        # Now, for randomness:\n",
    "        def butterfly_walk(num_times):\n",
    "            pos = 1\n",
    "            history = []\n",
    "            for i in range(num_times):\n",
    "                history.append(pos)\n",
    "                \n",
    "                if pos == 4:\n",
    "                    break\n",
    "                \n",
    "                if pos == 0:\n",
    "                    pos=1\n",
    "                else:\n",
    "                    pos = pos + random.choice([-1,1])\n",
    "                self.play(next_to_num(pos, butterfly, num_line), run_time=.15)\n",
    "                self.wait(.075)\n",
    "            self.wait(2)\n",
    "            return history\n",
    "        history = butterfly_walk(50)\n",
    "        \n",
    "        self.play(FadeOut(butterfly), FadeOut(num_line))\n",
    "        \n",
    "        text0 = Text(f\"Number of zero visits: {history.count(0)}\")\n",
    "        text4 = Text(f\"Number of four visits: {history.count(4)}\")\n",
    "        self.play(Write(text0.shift(UP)))\n",
    "        self.play(Write(text4.shift(DOWN)))\n",
    "        \n",
    "        self.play(FadeOut(text0, text4))\n",
    "        \n",
    "        self.wait(3)\n",
    "\n",
    "        # Create 21 different butterflys, numlines\n",
    "        heights = [-3,-2,-1,0,1,2,3]\n",
    "        widths = [-4,0,4]\n",
    "        length = 3.5\n",
    "        num_lines, butterflys = [], []\n",
    "\n",
    "        # Add butterflys, numberlines to the lists\n",
    "        for height in heights:\n",
    "            for width in widths:\n",
    "                num_lines.append(NumberLine([0,10,1], length=3.5, include_numbers=True, font_size=20).shift(width*RIGHT+height*UP))\n",
    "                butterfly = ImageMobject(\"./butterfly.png\")\n",
    "                butterfly.scale(.075)\n",
    "                butterflys.append(butterfly)\n",
    "        \n",
    "        num_butterflys = len(butterflys)\n",
    "        \n",
    "        # Set scene using all butterflys\n",
    "        for num_line, butterfly in zip(num_lines, butterflys):\n",
    "            set_scene(num_line, butterfly, run_time=.1, run_time_2=.05)\n",
    "        \n",
    "        # Generates a np array of (positions until upper bound is reached size (random), num_paths (number of butterflies) )\n",
    "        def generate_paths(num_paths, upper_bound=4):\n",
    "            def butterfly_walk():\n",
    "                        pos = 1\n",
    "                        history = []\n",
    "                        while pos != upper_bound:\n",
    "                            history.append(pos)\n",
    "                            if pos == 0:\n",
    "                                pos=1\n",
    "                            else:\n",
    "                                pos = pos + random.choice([-1,1])\n",
    "                        \n",
    "                        history.append(pos)\n",
    "                        return history\n",
    "            \n",
    "            paths = [butterfly_walk() for i in range(num_paths)]\n",
    "            max_length = max(len(sublist) for sublist in paths)\n",
    "            return np.array([sublist + [upper_bound] * (max_length - len(sublist)) for sublist in paths]).T\n",
    "        \n",
    "        paths = generate_paths(num_butterflys).tolist()\n",
    "        move_array = np.empty_like(paths).tolist()\n",
    "\n",
    "        # Loop through each butterfly, number line. Create a next_to object for each. Display each move at the same time\n",
    "        for j in range(len(paths)):\n",
    "            for i, pair in enumerate(zip(num_lines, butterflys)):\n",
    "                num_line, butterfly = pair\n",
    "                move_array[j][i] = next_to_num(x=paths[j][i], butterfly=butterfly, num_line=num_line)\n",
    "            self.play(*move_array[j], run_time=.05)\n",
    "        self.wait(2)\n",
    "\n",
    "        # Fade Out\n",
    "        self.play(\n",
    "            *[FadeOut(mob)for mob in self.mobjects]\n",
    "        )\n",
    "        text = Text(\"Eventually, you get a value \\nthat converges to 3\", )\n",
    "        eq1 = MathTex(r\"\\sum_{x=0}^{\\infty}x(1-p)^xp\")\n",
    "        eq2 = MathTex(r\"=\\frac{1-p}{p}\")\n",
    "        p = MathTex(r\"p = \\frac{1}{4}\")\n",
    "        \n",
    "        self.play(Write(text))\n",
    "        self.wait(.5)\n",
    "        self.play(text.animate.scale(.75).move_to(UP*2))\n",
    "        self.play(Write(eq1))\n",
    "        self.play(eq1.animate.move_to(LEFT), Write(eq2.next_to(eq1, RIGHT)))\n",
    "        self.play(eq2.animate.next_to(eq1), Write(p.next_to(eq2, DOWN)))\n",
    "        self.wait(4)\n",
    "        \n",
    "        \n",
    "        \n",
    "            "
   ]
  },
  {
   "cell_type": "code",
   "execution_count": null,
   "id": "d7386133-d769-45fa-ad1a-0e7cc9dc98a1",
   "metadata": {},
   "outputs": [],
   "source": []
  }
 ],
 "metadata": {
  "kernelspec": {
   "display_name": "Python 3 (ipykernel)",
   "language": "python",
   "name": "python3"
  },
  "language_info": {
   "codemirror_mode": {
    "name": "ipython",
    "version": 3
   },
   "file_extension": ".py",
   "mimetype": "text/x-python",
   "name": "python",
   "nbconvert_exporter": "python",
   "pygments_lexer": "ipython3",
   "version": "3.11.4"
  }
 },
 "nbformat": 4,
 "nbformat_minor": 5
}
